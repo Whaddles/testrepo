{
 "cells": [
  {
   "cell_type": "code",
   "execution_count": 11,
   "id": "883839f4-0902-4e78-bea9-71868fc5e681",
   "metadata": {},
   "outputs": [],
   "source": [
    "#Data Science Tools and Ecosystem"
   ]
  },
  {
   "cell_type": "code",
   "execution_count": null,
   "id": "21af723d-4a9e-4be3-9c34-71dfb1bab0fe",
   "metadata": {},
   "outputs": [],
   "source": [
    "#In this notebook, Data Science Tools and Ecosystem are summarized."
   ]
  },
  {
   "cell_type": "code",
   "execution_count": null,
   "id": "f32df02d-a2cf-437d-b442-e4ecbd96cddc",
   "metadata": {},
   "outputs": [],
   "source": [
    "\"\"\"\n",
    "Some of the popular languages that Data Scientists use are:\n",
    "    1. Python\n",
    "    2. SQL\n",
    "    3. R\n",
    "\"\"\""
   ]
  },
  {
   "cell_type": "code",
   "execution_count": 16,
   "id": "3293e8e5-1c1b-467a-b710-7c889d66479d",
   "metadata": {},
   "outputs": [
    {
     "data": {
      "text/plain": [
       "'\\nSome of the commonly used libraries used by Data Scientists include:\\n    1. Pandas\\n    2. NumPy\\n    3. Matplot\\n'"
      ]
     },
     "execution_count": 16,
     "metadata": {},
     "output_type": "execute_result"
    }
   ],
   "source": [
    "\"\"\"\n",
    "Some of the commonly used libraries used by Data Scientists include:\n",
    "    1. Pandas\n",
    "    2. NumPy\n",
    "    3. Matplot\n",
    "\"\"\"    "
   ]
  },
  {
   "cell_type": "code",
   "execution_count": 15,
   "id": "938b16eb-7e0c-4b12-886e-a0da0979755c",
   "metadata": {},
   "outputs": [
    {
     "data": {
      "text/plain": [
       "'\\nData Science Tools\\n    1. Jupyter Notebook\\n    2. VScode\\n    3. Rstudio\\n'"
      ]
     },
     "execution_count": 15,
     "metadata": {},
     "output_type": "execute_result"
    }
   ],
   "source": [
    "\"\"\"\n",
    "Data Science Tools\n",
    "    1. Jupyter Notebook\n",
    "    2. VScode\n",
    "    3. Rstudio\n",
    "\"\"\""
   ]
  },
  {
   "cell_type": "code",
   "execution_count": 14,
   "id": "bb2eac4a-06d3-499a-8bb1-000a4a5786c2",
   "metadata": {},
   "outputs": [],
   "source": [
    "###Below are a few examples of evaluating arithmetic expressions in python."
   ]
  },
  {
   "cell_type": "code",
   "execution_count": 3,
   "id": "d781d1ae-5b7f-4883-a90b-e703cac6dfe8",
   "metadata": {},
   "outputs": [
    {
     "name": "stdout",
     "output_type": "stream",
     "text": [
      "17\n"
     ]
    }
   ],
   "source": [
    "#This is a simple arithmetic expression to mutiply then add integers\n",
    "x = (3*4) + 5;\n",
    "print(x);"
   ]
  },
  {
   "cell_type": "code",
   "execution_count": 4,
   "id": "48ac4808-c49d-4ffe-956f-d7ed3f94f619",
   "metadata": {},
   "outputs": [
    {
     "name": "stdout",
     "output_type": "stream",
     "text": [
      "3.3333333333333335\n"
     ]
    }
   ],
   "source": [
    "#This will convert 200 minutes to hours by dividing by 60.\n",
    "x = 200 # x represents minutes\n",
    "y = 200/60 # y represents hours\n",
    "print(y)"
   ]
  },
  {
   "cell_type": "code",
   "execution_count": 9,
   "id": "975e07c3-1d07-457c-8733-b4f713614960",
   "metadata": {},
   "outputs": [
    {
     "data": {
      "text/plain": [
       "'\\nObjectives: List popular languages for Data Science\\n    - Python\\n    - SQL\\n    - R\\n'"
      ]
     },
     "execution_count": 9,
     "metadata": {},
     "output_type": "execute_result"
    }
   ],
   "source": [
    "\"\"\"\n",
    "Objectives: List popular languages for Data Science\n",
    "    - Python\n",
    "    - SQL\n",
    "    - R\n",
    "\"\"\""
   ]
  },
  {
   "cell_type": "code",
   "execution_count": null,
   "id": "9de411bb-86a8-4fdb-9e43-6bbe45d4aef6",
   "metadata": {},
   "outputs": [],
   "source": [
    "##Author\n",
    "Whaddles"
   ]
  }
 ],
 "metadata": {
  "kernelspec": {
   "display_name": "Python 3 (ipykernel)",
   "language": "python",
   "name": "python3"
  },
  "language_info": {
   "codemirror_mode": {
    "name": "ipython",
    "version": 3
   },
   "file_extension": ".py",
   "mimetype": "text/x-python",
   "name": "python",
   "nbconvert_exporter": "python",
   "pygments_lexer": "ipython3",
   "version": "3.12.5"
  }
 },
 "nbformat": 4,
 "nbformat_minor": 5
}
